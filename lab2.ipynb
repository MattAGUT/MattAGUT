{
  "nbformat": 4,
  "nbformat_minor": 0,
  "metadata": {
    "colab": {
      "provenance": []
    },
    "kernelspec": {
      "name": "python3",
      "display_name": "Python 3"
    },
    "language_info": {
      "name": "python"
    }
  },
  "cells": [
    {
      "cell_type": "markdown",
      "source": [
        "[![image](https://colab.research.google.com/assets/colab-badge.svg)](https://github.com/MattAGUT/MattAGUT/blob/main/lab2.ipynb)\n",
        "\n",
        "> Indented block\n",
        "\n",
        "\n"
      ],
      "metadata": {
        "id": "SOUa5-pC-5sI"
      }
    },
    {
      "cell_type": "markdown",
      "source": [
        "This is for the Lab 2 Assignment"
      ],
      "metadata": {
        "id": "z4YMAFK4_89h"
      }
    },
    {
      "cell_type": "code",
      "source": [
        "a = 2\n",
        "b = 4\n",
        "print(a +b)"
      ],
      "metadata": {
        "id": "89oSlX3X_68V"
      },
      "execution_count": null,
      "outputs": []
    }
  ]
}

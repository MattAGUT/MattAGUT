{
  "cells": [
    {
      "cell_type": "markdown",
      "id": "beb550f5",
      "metadata": {
        "id": "beb550f5"
      },
      "source": [
        "# Lab 4\n",
        "\n",
        "[![image](https://colab.research.google.com/assets/colab-badge.svg)](https://colab.research.google.com/github/MattAGUT/blob/main/lab4.ipynb)\n",
        "\n",
        "## Submission instructions\n",
        "\n",
        "1. Download the notebook from https://geosdemo.gishub.org/labs/lab4\n",
        "2. Complete the lab questions\n",
        "3. Restart Kernel and Run All Cells\n",
        "4. Upload the notebook to your GitHub repository\n",
        "5. Make sure the notebook has an `Open In Colab` badge. Click on the badge to make sure your notebook can be opened in Colab.\n",
        "6. Submit the link to the notebook on your GitHub repository to Canvas"
      ]
    },
    {
      "cell_type": "code",
      "execution_count": 1,
      "id": "bfc1ddc5",
      "metadata": {
        "vscode": {
          "languageId": "python"
        },
        "id": "bfc1ddc5",
        "colab": {
          "base_uri": "https://localhost:8080/"
        },
        "outputId": "35b25fa8-32f8-4305-d7c4-fc7ea18b0870"
      },
      "outputs": [
        {
          "output_type": "stream",
          "name": "stdout",
          "text": [
            "Submitted time: 2023-03-08 04:50:44.480725\n"
          ]
        }
      ],
      "source": [
        "from datetime import datetime\n",
        "\n",
        "now = datetime.now()\n",
        "print(f\"Submitted time: {now}\")"
      ]
    },
    {
      "cell_type": "markdown",
      "id": "7e96934a",
      "metadata": {
        "id": "7e96934a"
      },
      "source": [
        "## Question 1\n",
        "\n",
        "**Personal Message:** Use a variable to represent a person’s name, and print a message to that person. Your message should be simple, such as, “Hello Eric, would you like to learn some Python today?”"
      ]
    },
    {
      "cell_type": "code",
      "execution_count": 2,
      "id": "063a8cb4",
      "metadata": {
        "vscode": {
          "languageId": "python"
        },
        "id": "063a8cb4",
        "colab": {
          "base_uri": "https://localhost:8080/"
        },
        "outputId": "c84c0aca-d354-4729-998b-4a24ce936103"
      },
      "outputs": [
        {
          "output_type": "stream",
          "name": "stdout",
          "text": [
            "Kevin would you like to learn some python today?\n"
          ]
        }
      ],
      "source": [
        "Name = \"Kevin\"\n",
        "print(f\"{Name} would you like to learn some python today?\")"
      ]
    },
    {
      "cell_type": "markdown",
      "id": "83c4c9e9",
      "metadata": {
        "id": "83c4c9e9"
      },
      "source": [
        "## Question 2\n",
        "\n",
        "**Name Cases:** Use a variable to represent a person’s name, and then print that person’s name in lowercase, uppercase, and title case."
      ]
    },
    {
      "cell_type": "code",
      "execution_count": 3,
      "id": "35cfbbec",
      "metadata": {
        "vscode": {
          "languageId": "python"
        },
        "id": "35cfbbec",
        "colab": {
          "base_uri": "https://localhost:8080/"
        },
        "outputId": "f6b250ae-c82b-4756-f2f7-aa1baaa7ed96"
      },
      "outputs": [
        {
          "output_type": "stream",
          "name": "stdout",
          "text": [
            "kevin smith\n",
            "KEVIN SMITH\n",
            "Kevin Smith\n"
          ]
        }
      ],
      "source": [
        "Name = \"Kevin Smith\"\n",
        "print(Name.lower())\n",
        "print(Name.upper())\n",
        "print(Name.title())"
      ]
    },
    {
      "cell_type": "markdown",
      "id": "8c8e92e4",
      "metadata": {
        "id": "8c8e92e4"
      },
      "source": [
        "## Question 3\n",
        "\n",
        "**Famous Quote:** Find a quote from a famous person you admire. Print the quote and the name of its author. Your output should look something like the following, including the quotation marks:\n",
        "\n",
        "```\n",
        "Albert Einstein once said, “A person who never made a mistake never tried anything new.”\n",
        "```"
      ]
    },
    {
      "cell_type": "code",
      "execution_count": 4,
      "id": "3bed6cb5",
      "metadata": {
        "vscode": {
          "languageId": "python"
        },
        "id": "3bed6cb5",
        "colab": {
          "base_uri": "https://localhost:8080/"
        },
        "outputId": "6836a8d5-abb4-4c7c-de09-f7818e0ba7a7"
      },
      "outputs": [
        {
          "output_type": "stream",
          "name": "stdout",
          "text": [
            "John F. Kennedy once said \"Those who dare to fail miserably can achieve greatly.\"\n"
          ]
        }
      ],
      "source": [
        "Name = \"John F. Kennedy\"\n",
        "print(f\"{Name} once said \\\"Those who dare to fail miserably can achieve greatly.\\\"\")"
      ]
    },
    {
      "cell_type": "markdown",
      "id": "4b46d366",
      "metadata": {
        "id": "4b46d366"
      },
      "source": [
        "## Question 4\n",
        "\n",
        "**Stripping Names:** Use a variable to represent a person’s name, and include some whitespace characters at the beginning and end of the name. Make sure you use each character combination, \"\\t\" and \"\\n\", at least once.\n",
        "Print the name once, so the whitespace around the name is displayed. Then print the name using each of the three stripping functions, lstrip(), rstrip(), and strip()."
      ]
    },
    {
      "cell_type": "code",
      "execution_count": 5,
      "id": "bb5dbb0f",
      "metadata": {
        "vscode": {
          "languageId": "python"
        },
        "id": "bb5dbb0f",
        "colab": {
          "base_uri": "https://localhost:8080/"
        },
        "outputId": "46fa647d-fec1-44a9-ab6f-be3cf2aa2ab6"
      },
      "outputs": [
        {
          "output_type": "stream",
          "name": "stdout",
          "text": [
            "Unmodified:\n",
            "\tBob Jeffs\n",
            "\n",
            "\n",
            " lstrip():\n",
            "Bob Jeffs\n",
            "\n",
            "\n",
            " rstrip():\n",
            "\tBob Jeffs\n",
            "\n",
            " strip():\n",
            "Bob Jeffs\n"
          ]
        }
      ],
      "source": [
        "name = \"\\tBob Jeffs\\n\"\n",
        "\n",
        "print(\"Unmodified:\")\n",
        "print(name)\n",
        "\n",
        "print(\"\\n lstrip():\")\n",
        "print(name.lstrip())\n",
        "\n",
        "print(\"\\n rstrip():\")\n",
        "print(name.rstrip())\n",
        "\n",
        "print(\"\\n strip():\")\n",
        "print(name.strip())"
      ]
    },
    {
      "cell_type": "markdown",
      "id": "32cce0d9",
      "metadata": {
        "id": "32cce0d9"
      },
      "source": [
        "## Question 5\n",
        "\n",
        "**Names:** Store the names of a few of your friends in a list called names. Print\n",
        "each person’s name by accessing each element in the list, one at a time."
      ]
    },
    {
      "cell_type": "code",
      "execution_count": 6,
      "id": "13da6459",
      "metadata": {
        "vscode": {
          "languageId": "python"
        },
        "id": "13da6459",
        "colab": {
          "base_uri": "https://localhost:8080/"
        },
        "outputId": "3215cd50-d149-46c3-f247-2f71ae3dc9b8"
      },
      "outputs": [
        {
          "output_type": "stream",
          "name": "stdout",
          "text": [
            "Jeff\n",
            "Sam\n",
            "Joe\n",
            "Bob\n"
          ]
        }
      ],
      "source": [
        "names = [\"Jeff\", \"Sam\", \"Joe\", \"Bob\"]\n",
        "print(names[0])\n",
        "print(names[1])\n",
        "print(names[2])\n",
        "print(names[3])"
      ]
    },
    {
      "cell_type": "markdown",
      "id": "aaaa5c8f",
      "metadata": {
        "id": "aaaa5c8f"
      },
      "source": [
        "## Question 6\n",
        "\n",
        "**Your Own List:** Think of your favorite mode of transportation, such as a motorcycle or a car, and make a list that stores several examples. Use your list to print a series of statements about these items, such as “I would like to own a Honda motorcycle.”"
      ]
    },
    {
      "cell_type": "code",
      "execution_count": 7,
      "id": "eba0829e",
      "metadata": {
        "vscode": {
          "languageId": "python"
        },
        "id": "eba0829e",
        "colab": {
          "base_uri": "https://localhost:8080/"
        },
        "outputId": "06fc0092-02ae-490a-cb97-7effcfbf51de"
      },
      "outputs": [
        {
          "output_type": "stream",
          "name": "stdout",
          "text": [
            "I drive a Honda Civic\n",
            "Sometimes I ride the UT Bus\n",
            "I don't usually fly on Airplanes\n"
          ]
        }
      ],
      "source": [
        "transport = [\"Honda Civic\", \"UT Bus\", \"Airplanes\"]\n",
        "print(\"I drive a\", transport[0])\n",
        "print(\"Sometimes I ride the\", transport[1])\n",
        "print(\"I don\\'t usually fly on\", transport[2] )"
      ]
    },
    {
      "cell_type": "markdown",
      "id": "e4b4452f",
      "metadata": {
        "id": "e4b4452f"
      },
      "source": [
        "## Question 7\n",
        "\n",
        "**Pizzas:** Think of at least three kinds of your favorite pizza. Store these pizza names in a list, and then use a for loop to print the name of each pizza.\n",
        "\n",
        "Modify your for loop to print a sentence using the name of the pizza instead of printing just the name of the pizza. For each pizza you should have one line of output containing a simple statement like _I like pepperoni pizza._"
      ]
    },
    {
      "cell_type": "code",
      "execution_count": 8,
      "id": "37cdb68e",
      "metadata": {
        "vscode": {
          "languageId": "python"
        },
        "id": "37cdb68e",
        "colab": {
          "base_uri": "https://localhost:8080/"
        },
        "outputId": "2a7634b1-4fd2-48ba-9a02-ccb2a2238d5f"
      },
      "outputs": [
        {
          "output_type": "stream",
          "name": "stdout",
          "text": [
            "Cheese\n",
            "hawaiian\n",
            "Supreme\n",
            "I really love Cheese  pizza!\n",
            "I really love hawaiian  pizza!\n",
            "I really love Supreme  pizza!\n"
          ]
        }
      ],
      "source": [
        "mypizza = ['Cheese', 'hawaiian', 'Supreme']\n",
        "\n",
        "for pizza in mypizza:\n",
        "    print(pizza)\n",
        "\n",
        "for pizza in mypizza:\n",
        "    print(f\"I really love {pizza}  pizza!\")"
      ]
    },
    {
      "cell_type": "markdown",
      "id": "b3b70e8e",
      "metadata": {
        "id": "b3b70e8e"
      },
      "source": [
        "Add a line at the end of your program, outside the for loop, that states how much you like pizza. The output should consist of three or more lines about the kinds of pizza you like and then an additional sentence, such as _I really love pizza!_"
      ]
    },
    {
      "cell_type": "code",
      "execution_count": 8,
      "id": "11b4528c",
      "metadata": {
        "vscode": {
          "languageId": "python"
        },
        "id": "11b4528c"
      },
      "outputs": [],
      "source": []
    },
    {
      "cell_type": "code",
      "execution_count": 9,
      "metadata": {
        "vscode": {
          "languageId": "python"
        },
        "colab": {
          "base_uri": "https://localhost:8080/"
        },
        "outputId": "60ef3804-b7fc-4d64-be75-e49b88064765",
        "id": "griGsZSgjhXo"
      },
      "outputs": [
        {
          "output_type": "stream",
          "name": "stdout",
          "text": [
            "Cheese\n",
            "hawaiian\n",
            "Supreme\n",
            "I really love Cheese  pizza!\n",
            "I really love hawaiian  pizza!\n",
            "I really love Supreme  pizza!\n",
            "I really like pizza\n"
          ]
        }
      ],
      "source": [
        "mypizza = ['Cheese', 'hawaiian', 'Supreme']\n",
        "\n",
        "for pizza in mypizza:\n",
        "    print(pizza)\n",
        "\n",
        "for pizza in mypizza:\n",
        "    print(f\"I really love {pizza}  pizza!\")\n",
        "\n",
        "print(\"I really like pizza\")"
      ],
      "id": "griGsZSgjhXo"
    },
    {
      "cell_type": "markdown",
      "id": "6e42f992",
      "metadata": {
        "id": "6e42f992"
      },
      "source": [
        "## Question 8\n",
        "\n",
        "**Animals:** Think of at least three different animals that have a common characteristic. Store the names of these animals in a list, and then use a for loop to print out the name of each animal.\n",
        "\n",
        "Modify your program to print a statement about each animal, such as _A dog would make a great pet._"
      ]
    },
    {
      "cell_type": "code",
      "execution_count": 10,
      "id": "7489fb55",
      "metadata": {
        "vscode": {
          "languageId": "python"
        },
        "id": "7489fb55",
        "colab": {
          "base_uri": "https://localhost:8080/"
        },
        "outputId": "8b620b85-2515-42d7-803a-f9f3545badb6"
      },
      "outputs": [
        {
          "output_type": "stream",
          "name": "stdout",
          "text": [
            "Dog\n",
            "Cat\n",
            "Fish\n",
            "A Dog would make a good pet\n",
            "\n",
            "A Cat would make a good pet\n",
            "\n",
            "A Fish would make a good pet\n",
            "\n"
          ]
        }
      ],
      "source": [
        "myanimals = [\"Dog\", \"Cat\", \"Fish\"]\n",
        "for animals in myanimals:\n",
        "  print(animals)\n",
        "\n",
        "for animals in myanimals:\n",
        "  print(f\"A {animals} would make a good pet\\n\" )"
      ]
    },
    {
      "cell_type": "markdown",
      "id": "b4484392",
      "metadata": {
        "id": "b4484392"
      },
      "source": [
        "Add a line at the end of your program stating what these animals have in common. You could print a sentence such as _Any of these animals would make a great pet!_"
      ]
    },
    {
      "cell_type": "code",
      "execution_count": 11,
      "metadata": {
        "vscode": {
          "languageId": "python"
        },
        "colab": {
          "base_uri": "https://localhost:8080/"
        },
        "outputId": "25a6b80a-7279-444f-c60b-cef46f8ecc1c",
        "id": "C_46KZXaVKer"
      },
      "outputs": [
        {
          "output_type": "stream",
          "name": "stdout",
          "text": [
            "Dog\n",
            "Cat\n",
            "Fish\n",
            "A Dog would make a good pet\n",
            "\n",
            "A Cat would make a good pet\n",
            "\n",
            "A Fish would make a good pet\n",
            "\n",
            "All of these animals would make pretty good pets\n"
          ]
        }
      ],
      "source": [
        "myanimals = [\"Dog\", \"Cat\", \"Fish\"]\n",
        "for animals in myanimals:\n",
        "  print(animals)\n",
        "\n",
        "for animals in myanimals:\n",
        "  print(f\"A {animals} would make a good pet\\n\" )\n",
        "\n",
        "print(\"All of these animals would make pretty good pets\")"
      ],
      "id": "C_46KZXaVKer"
    },
    {
      "cell_type": "markdown",
      "id": "ba99ccb5",
      "metadata": {
        "id": "ba99ccb5"
      },
      "source": [
        "## Question 9\n",
        "\n",
        "**Summing a Hundred:** Make a list of the numbers from one to one hundred, and then use `min()` and `max()` to make sure your list actually starts at one and ends at one hundred. Also, use the sum() function to see how quickly Python can add a hundred numbers."
      ]
    },
    {
      "cell_type": "code",
      "execution_count": 12,
      "id": "6c6a27a9",
      "metadata": {
        "vscode": {
          "languageId": "python"
        },
        "id": "6c6a27a9",
        "colab": {
          "base_uri": "https://localhost:8080/"
        },
        "outputId": "f88a250b-c86c-4d9e-a943-1cedb0b05e59"
      },
      "outputs": [
        {
          "output_type": "stream",
          "name": "stdout",
          "text": [
            "1\n",
            "100\n",
            "5050\n"
          ]
        }
      ],
      "source": [
        "numbers = list(range (1,101))\n",
        "print(min(numbers))\n",
        "print(max(numbers))\n",
        "print(sum(numbers))"
      ]
    },
    {
      "cell_type": "markdown",
      "id": "d165cd3c",
      "metadata": {
        "id": "d165cd3c"
      },
      "source": [
        "## Question 10\n",
        "\n",
        "**Odd Numbers:** Use the third argument of the `range()` function to make a list of the odd numbers from 1 to 20. Use a `for` loop to print each number."
      ]
    },
    {
      "cell_type": "code",
      "execution_count": 13,
      "id": "d276920a",
      "metadata": {
        "vscode": {
          "languageId": "python"
        },
        "id": "d276920a",
        "colab": {
          "base_uri": "https://localhost:8080/"
        },
        "outputId": "56c2e0a2-ad67-41bf-8da6-33ea89664c57"
      },
      "outputs": [
        {
          "output_type": "stream",
          "name": "stdout",
          "text": [
            "1\n",
            "3\n",
            "5\n",
            "7\n",
            "9\n",
            "11\n",
            "13\n",
            "15\n",
            "17\n",
            "19\n"
          ]
        }
      ],
      "source": [
        "numbers = list(range (1,21,2))\n",
        "for number in numbers:\n",
        "    print(number)"
      ]
    },
    {
      "cell_type": "markdown",
      "id": "9e49d9eb",
      "metadata": {
        "id": "9e49d9eb"
      },
      "source": [
        "## Question 11\n",
        "\n",
        "**Threes:** Make a list of the multiples of 3 from 3 to 30. Use a `for` loop to print the numbers in your list."
      ]
    },
    {
      "cell_type": "code",
      "execution_count": 14,
      "id": "4ff24fc6",
      "metadata": {
        "vscode": {
          "languageId": "python"
        },
        "id": "4ff24fc6",
        "colab": {
          "base_uri": "https://localhost:8080/"
        },
        "outputId": "e96576de-a3b8-4602-bafe-a83f729aaa33"
      },
      "outputs": [
        {
          "output_type": "stream",
          "name": "stdout",
          "text": [
            "3\n",
            "6\n",
            "9\n",
            "12\n",
            "15\n",
            "18\n",
            "21\n",
            "24\n",
            "27\n",
            "30\n"
          ]
        }
      ],
      "source": [
        "numbers = list(range(3,31,3))\n",
        "for number in numbers:\n",
        "  print(number)"
      ]
    },
    {
      "cell_type": "markdown",
      "id": "dbcce457",
      "metadata": {
        "id": "dbcce457"
      },
      "source": [
        "## Question 12\n",
        "\n",
        "**Cube Comprehension:** Use a list comprehension to generate a list of the first 10 cubes."
      ]
    },
    {
      "cell_type": "code",
      "execution_count": 15,
      "id": "df0901f8",
      "metadata": {
        "vscode": {
          "languageId": "python"
        },
        "id": "df0901f8",
        "colab": {
          "base_uri": "https://localhost:8080/"
        },
        "outputId": "ac494c50-bcdc-48a7-de7c-528d95940ff9"
      },
      "outputs": [
        {
          "output_type": "stream",
          "name": "stdout",
          "text": [
            "1\n",
            "8\n",
            "27\n",
            "64\n",
            "125\n",
            "216\n",
            "343\n",
            "512\n",
            "729\n",
            "1000\n"
          ]
        }
      ],
      "source": [
        "cubes = []\n",
        "for number in range (1,11):\n",
        "  cube = number**3\n",
        "  cubes.append(cube)\n",
        "\n",
        "for cube in cubes:\n",
        "  print(cube)"
      ]
    },
    {
      "cell_type": "markdown",
      "id": "c6946e7b",
      "metadata": {
        "id": "c6946e7b"
      },
      "source": [
        "## Question 13\n",
        "\n",
        "**Slices:** Using one of the programs you wrote in this lab, add several lines to the end of the program that do the following:\n",
        "\n",
        "Print the message _The first three items in the list are:_. Then use a slice to print the first three items from that program’s list."
      ]
    },
    {
      "cell_type": "code",
      "execution_count": 16,
      "id": "0e03e488",
      "metadata": {
        "vscode": {
          "languageId": "python"
        },
        "id": "0e03e488",
        "colab": {
          "base_uri": "https://localhost:8080/"
        },
        "outputId": "0cce554f-91b9-4b93-ec35-c34300664e96"
      },
      "outputs": [
        {
          "output_type": "stream",
          "name": "stdout",
          "text": [
            "The First three items in the list are: ['Jeff', 'Sam', 'Joe']\n"
          ]
        }
      ],
      "source": [
        "names = [\"Jeff\", \"Sam\", \"Joe\", \"Bob\", \"Ian\"]\n",
        "print(\"The First three items in the list are:\", names[0:3])"
      ]
    },
    {
      "cell_type": "markdown",
      "id": "6f88722c",
      "metadata": {
        "id": "6f88722c"
      },
      "source": [
        "Print the message _Three items from the middle of the list are:_. Use a slice to print three items from the middle of the list."
      ]
    },
    {
      "cell_type": "code",
      "execution_count": 17,
      "metadata": {
        "vscode": {
          "languageId": "python"
        },
        "colab": {
          "base_uri": "https://localhost:8080/"
        },
        "outputId": "7d569fa3-08a5-40ab-ab72-1e25ae571f3f",
        "id": "phj86536ZLFI"
      },
      "outputs": [
        {
          "output_type": "stream",
          "name": "stdout",
          "text": [
            "Three items from the middle of the list are: ['Sam', 'Joe', 'Bob']\n"
          ]
        }
      ],
      "source": [
        "names = [\"Jeff\", \"Sam\", \"Joe\", \"Bob\", \"Ian\"]\n",
        "print(\"Three items from the middle of the list are:\", names[1:4])"
      ],
      "id": "phj86536ZLFI"
    },
    {
      "cell_type": "markdown",
      "id": "0abc8cec",
      "metadata": {
        "id": "0abc8cec"
      },
      "source": [
        "Print the message _The last three items in the list are:_. Use a slice to print the last three items in the list."
      ]
    },
    {
      "cell_type": "code",
      "execution_count": 18,
      "id": "64988cac",
      "metadata": {
        "vscode": {
          "languageId": "python"
        },
        "id": "64988cac",
        "colab": {
          "base_uri": "https://localhost:8080/"
        },
        "outputId": "5b7edffa-4935-405b-a644-28f3c43ff394"
      },
      "outputs": [
        {
          "output_type": "stream",
          "name": "stdout",
          "text": [
            "The last three items in the list are: ['Joe', 'Bob', 'Ian']\n"
          ]
        }
      ],
      "source": [
        "names = [\"Jeff\", \"Sam\", \"Joe\", \"Bob\", \"Ian\"]\n",
        "print(\"The last three items in the list are:\",names[2:5])"
      ]
    },
    {
      "cell_type": "markdown",
      "id": "36876b9d",
      "metadata": {
        "id": "36876b9d"
      },
      "source": [
        "## Question 14\n",
        "\n",
        "**Buffet:** A buffet-style restaurant offers only five basic foods. Think of five simple foods, and store them in a tuple.\n",
        "\n",
        "Use a for loop to print each food the restaurant offers."
      ]
    },
    {
      "cell_type": "code",
      "execution_count": 19,
      "id": "6f186d8a",
      "metadata": {
        "vscode": {
          "languageId": "python"
        },
        "id": "6f186d8a",
        "colab": {
          "base_uri": "https://localhost:8080/"
        },
        "outputId": "a836d8fc-14c2-4e9c-a6de-9d855b3d67ed"
      },
      "outputs": [
        {
          "output_type": "stream",
          "name": "stdout",
          "text": [
            "BBQ Chicken\n",
            "Ribs\n",
            "Hamburger\n",
            "Steak\n",
            "Bread\n"
          ]
        }
      ],
      "source": [
        "foods = (\"BBQ Chicken\", \"Ribs\", \"Hamburger\", \"Steak\", \"Bread\")\n",
        "for food in foods:\n",
        "  print(food)"
      ]
    },
    {
      "cell_type": "markdown",
      "id": "0a6ba7f3",
      "metadata": {
        "id": "0a6ba7f3"
      },
      "source": [
        "The restaurant changes its menu, replacing two of the items with different foods. Add a line that rewrites the tuple, and then use a for loop to print each of the items on the revised menu."
      ]
    },
    {
      "cell_type": "code",
      "execution_count": 20,
      "metadata": {
        "vscode": {
          "languageId": "python"
        },
        "colab": {
          "base_uri": "https://localhost:8080/"
        },
        "outputId": "4032a9b4-3db2-492d-f4fb-8925040659bf",
        "id": "ZhIY8VBbaweY"
      },
      "outputs": [
        {
          "output_type": "stream",
          "name": "stdout",
          "text": [
            "BBQ Chicken\n",
            "Ribs\n",
            "Hamburger\n",
            "Steak\n",
            "Bread\n",
            "\n",
            "BBQ Chicken\n",
            "Ribs\n",
            "Hamburger\n",
            "Salad\n",
            "Soup\n"
          ]
        }
      ],
      "source": [
        "foods = (\"BBQ Chicken\", \"Ribs\", \"Hamburger\", \"Steak\", \"Bread\\n\")\n",
        "for food in foods:\n",
        "  print(food)\n",
        "\n",
        "\n",
        "foods = (\"BBQ Chicken\", \"Ribs\", \"Hamburger\", \"Salad\", \"Soup\")\n",
        "for food in foods:\n",
        "  print(food)"
      ],
      "id": "ZhIY8VBbaweY"
    },
    {
      "cell_type": "markdown",
      "id": "337ac27d",
      "metadata": {
        "id": "337ac27d"
      },
      "source": [
        "## Question 15\n",
        "\n",
        "**Alien Colors:** Imagine an alien was just shot down in a game. Create a variable called `alien_color` and assign it a value of `green, yellow,` or `red`.\n",
        "\n",
        "-   Write an if statement to test whether the alien’s color is green. If it is, print a message that the player just earned 5 points.\n",
        "-   Write one version of this program that passes the if test and another that fails. (The version that fails will have no output.)"
      ]
    },
    {
      "cell_type": "code",
      "execution_count": 21,
      "id": "cc3198fa",
      "metadata": {
        "vscode": {
          "languageId": "python"
        },
        "id": "cc3198fa",
        "colab": {
          "base_uri": "https://localhost:8080/"
        },
        "outputId": "9464623c-b0f1-452f-dda0-75910b7bfeff"
      },
      "outputs": [
        {
          "output_type": "stream",
          "name": "stdout",
          "text": [
            "You Got 5 Points\n"
          ]
        }
      ],
      "source": [
        "alien_color = \"red\"\n",
        "\n",
        "if alien_color == \"green\":\n",
        "  print(\"You Got 5 Points\") \n",
        "\n",
        "alien_color = \"Green\" \n",
        "\n",
        "if alien_color == \"Green\":\n",
        "  print(\"You Got 5 Points\")"
      ]
    },
    {
      "cell_type": "markdown",
      "id": "57465bab",
      "metadata": {
        "id": "57465bab"
      },
      "source": [
        "## Question 16\n",
        "\n",
        "**Stages of Life:** Write an `if-elif-else` chain that determines a person’s stage of life. Set a value for the variable `age`, and then:\n",
        "\n",
        "-   If the person is less than 2 years old, print a message that the person is a baby.\n",
        "-   If the person is at least 2 years old but less than 4, print a message that the person is a toddler.\n",
        "-   If the person is at least 4 years old but less than 13, print a message that the person is a kid.\n",
        "-   If the person is at least 13 years old but less than 20, print a message that the person is a teenager.\n",
        "-   If the person is at least 20 years old but less than 65, print a message that the person is an adult."
      ]
    },
    {
      "cell_type": "code",
      "execution_count": 22,
      "id": "b09c364a",
      "metadata": {
        "vscode": {
          "languageId": "python"
        },
        "id": "b09c364a",
        "colab": {
          "base_uri": "https://localhost:8080/"
        },
        "outputId": "d7a2146b-39f5-4048-ad0f-ad36bbcda89f"
      },
      "outputs": [
        {
          "output_type": "stream",
          "name": "stdout",
          "text": [
            "you're an Elder\n"
          ]
        }
      ],
      "source": [
        "age = 70\n",
        "if age <2:\n",
        "  print(\"you\\'re a baby\" )\n",
        "elif age<4: \n",
        "  print(\"you\\'re a toddler\")\n",
        "elif age<13:\n",
        "  print(\"you\\'re a kid\")\n",
        "elif age<20 :\n",
        "  print(\"you\\'re a Teenager\")\n",
        "elif age<65:\n",
        "  print(\"you\\'re an Adult\")\n",
        "else:\n",
        "  print(\"you\\'re an Elder\")\n"
      ]
    },
    {
      "cell_type": "markdown",
      "id": "96b3da06",
      "metadata": {
        "id": "96b3da06"
      },
      "source": [
        "## Question 17\n",
        "\n",
        "**Favorite Fruit:** Make a list of your favorite fruits, and then write a series of independent `if` statements that check for certain fruits in your list.\n",
        "\n",
        "-   Make a list of your three favorite fruits and call it favorite_fruits.\n",
        "-   Write five if statements. Each should check whether a certain kind of fruit is in your list. If the fruit is in your list, the if block should print a statement, such as You really like bananas!"
      ]
    },
    {
      "cell_type": "code",
      "execution_count": 23,
      "id": "fc58635c",
      "metadata": {
        "vscode": {
          "languageId": "python"
        },
        "id": "fc58635c",
        "colab": {
          "base_uri": "https://localhost:8080/"
        },
        "outputId": "a15c4265-ea91-4643-e15d-d55182b8ef48"
      },
      "outputs": [
        {
          "output_type": "stream",
          "name": "stdout",
          "text": [
            "You Like Pineapple\n",
            "You Like Apples\n",
            "You like Grape\n"
          ]
        }
      ],
      "source": [
        "favorite_fruits = [\"Pineapple\", \"Apple\", \"Grape\"]\n",
        "if \"Pineapple\" in favorite_fruits:\n",
        "  print(\"You Like Pineapple\")\n",
        "\n",
        "if \"Apple\" in favorite_fruits:\n",
        "  print(\"You Like Apples\")\n",
        "\n",
        "if \"Mango\" in favorite_fruits:\n",
        "  print(\"You Like Mango\")\n",
        "\n",
        "if \"Grape\" in favorite_fruits:\n",
        "  print(\"You like Grape\")\n",
        "\n",
        "if \"mango\" in favorite_fruits:\n",
        "  print(\"you like mango\")\n",
        "\n",
        "if \"berry\" in favorite_fruits:\n",
        "  print(\"you like berries\")"
      ]
    },
    {
      "cell_type": "markdown",
      "id": "71e4c6f1",
      "metadata": {
        "id": "71e4c6f1"
      },
      "source": [
        "## Question 18\n",
        "\n",
        "**Hello Admin:** Make a list of five or more usernames, including the name `admin`. Imagine you are writing code that will print a greeting to each user after they log in to a website. Loop through the list, and print a greeting to each user:\n",
        "\n",
        "-   If the username is 'admin', print a special greeting, such as _Hello admin, would you like to see a status report?_\n",
        "-   Otherwise, print a generic greeting, such as _Hello Jaden, thank you for logging in again_."
      ]
    },
    {
      "cell_type": "code",
      "execution_count": 24,
      "id": "651e8bf2",
      "metadata": {
        "vscode": {
          "languageId": "python"
        },
        "id": "651e8bf2",
        "colab": {
          "base_uri": "https://localhost:8080/"
        },
        "outputId": "f4fdcc26-ec8a-4f61-988c-7fb5e5650f66"
      },
      "outputs": [
        {
          "output_type": "stream",
          "name": "stdout",
          "text": [
            "Hello adam, than you for logging in again\n",
            "Hello Jeff, than you for logging in again\n",
            "Hello Bob, than you for logging in again\n",
            "Hello Matt, than you for logging in again\n",
            "Hello admin, would you like to see a status report?\n"
          ]
        }
      ],
      "source": [
        "usernames = [\"adam\", \"Jeff\", \"Bob\", \"Matt\", \"Admin\"]\n",
        "for username in usernames:\n",
        "  if username == \"Admin\":\n",
        "    print(\"Hello admin, would you like to see a status report?\")\n",
        "  else:\n",
        "    print(f\"Hello {username}, than you for logging in again\")\n"
      ]
    },
    {
      "cell_type": "markdown",
      "id": "fd53a583",
      "metadata": {
        "id": "fd53a583"
      },
      "source": [
        "## Question 19\n",
        "\n",
        "**Checking Usernames:** Do the following to create a program that simulates how websites ensure that everyone has a unique username.\n",
        "\n",
        "-   Make a list of five or more usernames called `current_users`.\n",
        "-   Make another list of five usernames called `new_users`. Make sure one or two of the new usernames are also in the `current_users` list.\n",
        "-   Loop through the `new_users` list to see if each new username has already been used. If it has, print a message that the person will need to enter a new username. If a username has not been used, print a message saying that the username is available.\n",
        "-   Make sure your comparison is case insensitive. If 'John' has been used, 'JOHN' should not be accepted. (To do this, you’ll need to make a copy of `current_users` containing the lowercase versions of all existing users.)"
      ]
    },
    {
      "cell_type": "code",
      "execution_count": 25,
      "id": "9f1a4a8d",
      "metadata": {
        "vscode": {
          "languageId": "python"
        },
        "id": "9f1a4a8d",
        "colab": {
          "base_uri": "https://localhost:8080/"
        },
        "outputId": "8661d4de-7ac4-4a4b-98a9-7a556017521d"
      },
      "outputs": [
        {
          "output_type": "stream",
          "name": "stdout",
          "text": [
            " George, name not avaliable.\n",
            " Bob, name not avaliable.\n",
            " Ian, name is available.\n",
            " Jeff, name is available.\n",
            " Matt, name is available.\n"
          ]
        }
      ],
      "source": [
        "current_users = ['George', 'Bob', 'Mac', 'Dolly', 'Vol']\n",
        "new_users = ['George', 'Bob', 'Ian', 'Jeff', 'Matt']\n",
        "\n",
        "current_users_lower = [user.lower() for user in current_users]\n",
        "\n",
        "for new_user in new_users:\n",
        "    if new_user.lower() in current_users_lower:\n",
        "        print(f\" {new_user}, name not avaliable.\")\n",
        "    else:\n",
        "        print(f\" {new_user}, name is available.\")"
      ]
    },
    {
      "cell_type": "markdown",
      "id": "20f8412b",
      "metadata": {
        "id": "20f8412b"
      },
      "source": [
        "## Question 20\n",
        "\n",
        "**Ordinal Numbers:** Ordinal numbers indicate their position in a list, such as _1st_ or _2nd_. Most ordinal numbers end in _th_, except 1, 2, and 3.\n",
        "\n",
        "-   Store the numbers 1 through 9 in a list.\n",
        "-   Loop through the list.\n",
        "-   Use an `if-elif-else` chain inside the loop to print the proper ordinal ending for each number. Your output should read \"1st 2nd 3rd 4th 5th 6th 7th 8th 9th\", and each result should be on a separate line."
      ]
    },
    {
      "cell_type": "code",
      "execution_count": 26,
      "id": "6231e1e4",
      "metadata": {
        "vscode": {
          "languageId": "python"
        },
        "id": "6231e1e4",
        "colab": {
          "base_uri": "https://localhost:8080/"
        },
        "outputId": "6a245219-7ba6-4aba-c36a-89e6c3536620"
      },
      "outputs": [
        {
          "output_type": "stream",
          "name": "stdout",
          "text": [
            "1st\n",
            "2nd\n",
            "3rd\n",
            "4th\n",
            "5th\n",
            "6th\n",
            "7th\n",
            "8th\n",
            "9th\n"
          ]
        }
      ],
      "source": [
        "numbers = list(range(1,10))\n",
        "\n",
        "for number in numbers:\n",
        "    if number == 1:\n",
        "        print(\"1st\")\n",
        "    elif number == 2:\n",
        "        print(\"2nd\")\n",
        "    elif number == 3:\n",
        "        print(\"3rd\")\n",
        "    else:\n",
        "        print(f\"{number}th\")"
      ]
    }
  ],
  "metadata": {
    "kernelspec": {
      "display_name": "Python 3",
      "language": "python",
      "name": "python3"
    },
    "colab": {
      "provenance": []
    }
  },
  "nbformat": 4,
  "nbformat_minor": 5
}
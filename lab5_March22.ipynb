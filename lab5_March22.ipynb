{
  "cells": [
    {
      "cell_type": "markdown",
      "id": "4e70be69",
      "metadata": {
        "id": "4e70be69"
      },
      "source": [
        "# Lab 5\n",
        "\n",
        "[![image](https://colab.research.google.com/assets/colab-badge.svg)](https://colab.research.google.com/github/giswqs/geosdemo/blob/master/docs/labs/lab5.ipynb)\n",
        "\n",
        "## Submission instructions\n",
        "\n",
        "1. Download the notebook from https://geosdemo.gishub.org/labs/lab5\n",
        "2. Complete the lab questions\n",
        "3. Restart Kernel and Run All Cells\n",
        "4. Upload the notebook to your GitHub repository\n",
        "5. Make sure the notebook has an `Open In Colab` badge. Click on the badge to make sure your notebook can be opened in Colab.\n",
        "6. Submit the link to the notebook on your GitHub repository to Canvas"
      ]
    },
    {
      "cell_type": "code",
      "execution_count": 1,
      "id": "8de60915",
      "metadata": {
        "colab": {
          "base_uri": "https://localhost:8080/"
        },
        "id": "8de60915",
        "outputId": "75241777-5cf9-4a62-df4a-02a7384649c5"
      },
      "outputs": [
        {
          "output_type": "stream",
          "name": "stdout",
          "text": [
            "Submitted time: 2023-03-22 23:07:08.537067\n"
          ]
        }
      ],
      "source": [
        "from datetime import datetime\n",
        "\n",
        "now = datetime.now()\n",
        "print(f\"Submitted time: {now}\")"
      ]
    },
    {
      "cell_type": "code",
      "source": [
        "!wget https://raw.githubusercontent.com/MattAGUT/MattAGUT/main/cats.txt\n",
        "!wget https://raw.githubusercontent.com/MattAGUT/MattAGUT/main/dogs.txt\n",
        "!wget https://raw.githubusercontent.com/MattAGUT/MattAGUT/main/learning_python.txt\n",
        "!wget https://raw.githubusercontent.com/MattAGUT/MattAGUT/main/a_modest_proposal.txt"
      ],
      "metadata": {
        "colab": {
          "base_uri": "https://localhost:8080/"
        },
        "id": "AMSsu4arXXh5",
        "outputId": "1b78089c-1e49-4d8c-a563-eac88c33e9f6"
      },
      "id": "AMSsu4arXXh5",
      "execution_count": 2,
      "outputs": [
        {
          "output_type": "stream",
          "name": "stdout",
          "text": [
            "--2023-03-22 23:07:08--  https://raw.githubusercontent.com/MattAGUT/MattAGUT/main/cats.txt\n",
            "Resolving raw.githubusercontent.com (raw.githubusercontent.com)... 185.199.108.133, 185.199.111.133, 185.199.109.133, ...\n",
            "Connecting to raw.githubusercontent.com (raw.githubusercontent.com)|185.199.108.133|:443... connected.\n",
            "HTTP request sent, awaiting response... 200 OK\n",
            "Length: 22 [text/plain]\n",
            "Saving to: ‘cats.txt’\n",
            "\n",
            "cats.txt            100%[===================>]      22  --.-KB/s    in 0s      \n",
            "\n",
            "2023-03-22 23:07:08 (886 KB/s) - ‘cats.txt’ saved [22/22]\n",
            "\n",
            "--2023-03-22 23:07:08--  https://raw.githubusercontent.com/MattAGUT/MattAGUT/main/dogs.txt\n",
            "Resolving raw.githubusercontent.com (raw.githubusercontent.com)... 185.199.108.133, 185.199.109.133, 185.199.110.133, ...\n",
            "Connecting to raw.githubusercontent.com (raw.githubusercontent.com)|185.199.108.133|:443... connected.\n",
            "HTTP request sent, awaiting response... 200 OK\n",
            "Length: 18 [text/plain]\n",
            "Saving to: ‘dogs.txt’\n",
            "\n",
            "dogs.txt            100%[===================>]      18  --.-KB/s    in 0s      \n",
            "\n",
            "2023-03-22 23:07:09 (1.18 MB/s) - ‘dogs.txt’ saved [18/18]\n",
            "\n",
            "--2023-03-22 23:07:09--  https://raw.githubusercontent.com/MattAGUT/MattAGUT/main/learning_python.txt\n",
            "Resolving raw.githubusercontent.com (raw.githubusercontent.com)... 185.199.108.133, 185.199.109.133, 185.199.110.133, ...\n",
            "Connecting to raw.githubusercontent.com (raw.githubusercontent.com)|185.199.108.133|:443... connected.\n",
            "HTTP request sent, awaiting response... 200 OK\n",
            "Length: 91 [text/plain]\n",
            "Saving to: ‘learning_python.txt’\n",
            "\n",
            "learning_python.txt 100%[===================>]      91  --.-KB/s    in 0s      \n",
            "\n",
            "2023-03-22 23:07:09 (4.31 MB/s) - ‘learning_python.txt’ saved [91/91]\n",
            "\n",
            "--2023-03-22 23:07:09--  https://raw.githubusercontent.com/MattAGUT/MattAGUT/main/a_modest_proposal.txt\n",
            "Resolving raw.githubusercontent.com (raw.githubusercontent.com)... 185.199.108.133, 185.199.109.133, 185.199.110.133, ...\n",
            "Connecting to raw.githubusercontent.com (raw.githubusercontent.com)|185.199.108.133|:443... connected.\n",
            "HTTP request sent, awaiting response... 200 OK\n",
            "Length: 19574 (19K) [text/plain]\n",
            "Saving to: ‘a_modest_proposal.txt’\n",
            "\n",
            "a_modest_proposal.t 100%[===================>]  19.12K  --.-KB/s    in 0.001s  \n",
            "\n",
            "2023-03-22 23:07:09 (29.5 MB/s) - ‘a_modest_proposal.txt’ saved [19574/19574]\n",
            "\n"
          ]
        }
      ]
    },
    {
      "cell_type": "markdown",
      "id": "a526d1ff",
      "metadata": {
        "id": "a526d1ff"
      },
      "source": [
        "## Question 1\n",
        "\n",
        "**Person:** Use a dictionary to store information about a person you know. Store their first name, last name, age, and the city in which they live. You should have keys such as first_name, last_name, age, and city. Print each piece of information stored in your dictionary."
      ]
    },
    {
      "cell_type": "code",
      "execution_count": 3,
      "id": "060bd962",
      "metadata": {
        "colab": {
          "base_uri": "https://localhost:8080/"
        },
        "id": "060bd962",
        "outputId": "187d5af2-2933-41d1-f576-b951b0c203b2"
      },
      "outputs": [
        {
          "output_type": "stream",
          "name": "stdout",
          "text": [
            "James\n",
            "Smith\n",
            "24\n",
            "Atlanta\n"
          ]
        }
      ],
      "source": [
        "person = {\"firstname\" : \"James\", \"Lastname\" : \"Smith\", \"age\" : \"24\", \"City\": \"Atlanta\" }\n",
        "print(person[\"firstname\"])\n",
        "print(person[\"Lastname\"])\n",
        "print(person[\"age\"])\n",
        "print(person[\"City\"])"
      ]
    },
    {
      "cell_type": "markdown",
      "id": "32bb120e",
      "metadata": {
        "id": "32bb120e"
      },
      "source": [
        "## Question 2\n",
        "\n",
        "**Favorite Numbers:** Use a dictionary to store people’s favorite numbers. Think of five names, and use them as keys in your dictionary. Think of a favorite number for each person, and store each as a value in your dictionary. Print each person’s name and their favorite number. For even more fun, poll a few friends and get some actual data for your program."
      ]
    },
    {
      "cell_type": "code",
      "execution_count": 4,
      "id": "37115a33",
      "metadata": {
        "colab": {
          "base_uri": "https://localhost:8080/"
        },
        "id": "37115a33",
        "outputId": "03dd76c3-52be-4490-e498-89bd65038615"
      },
      "outputs": [
        {
          "output_type": "stream",
          "name": "stdout",
          "text": [
            "James' favorite number is 24.\n",
            "Jacob's favorite number is 25.\n",
            "Sam's favorite number is 99.\n",
            "Luke's favorite number is 87.\n",
            "Dan's favorite number is 34.\n"
          ]
        }
      ],
      "source": [
        "favorite_numbers = {\"James\" : 24, \"Jacob\" : 25, \"Sam\" : 99, \"Luke\" : 87, \"Dan\" : 34 }\n",
        "\n",
        "num = favorite_numbers['James']\n",
        "print(\"James' favorite number is \" + str(num) + \".\")\n",
        "\n",
        "num = favorite_numbers['Jacob']\n",
        "print(\"Jacob's favorite number is \" + str(num) + \".\")\n",
        "\n",
        "num = favorite_numbers['Sam']\n",
        "print(\"Sam's favorite number is \" + str(num) + \".\")\n",
        "\n",
        "num = favorite_numbers['Luke']\n",
        "print(\"Luke's favorite number is \" + str(num) + \".\")\n",
        "\n",
        "num = favorite_numbers['Dan']\n",
        "print(\"Dan's favorite number is \" + str(num) + \".\")"
      ]
    },
    {
      "cell_type": "markdown",
      "id": "eb31ca53",
      "metadata": {
        "id": "eb31ca53"
      },
      "source": [
        "## Question 3\n",
        "\n",
        "**Glossary:** A Python dictionary can be used to model an actual dictionary. However, to avoid confusion, let’s call it a glossary.\n",
        "\n",
        "- Think of five programming words you’ve learned about in the previous chapters. Use these words as the keys in your glossary, and store their meanings as values.\n",
        "- Print each word and its meaning as neatly formatted output. You might print the word followed by a colon and then its meaning, or print the word on one line and then print its meaning indented on a second line. Use the newline character (\\n) to insert a blank line between each word-meaning pair in your output."
      ]
    },
    {
      "cell_type": "code",
      "execution_count": 5,
      "id": "7bdd7f86",
      "metadata": {
        "colab": {
          "base_uri": "https://localhost:8080/"
        },
        "id": "7bdd7f86",
        "outputId": "ea5c4824-f9cf-4ac6-ab79-40e297d46589"
      },
      "outputs": [
        {
          "output_type": "stream",
          "name": "stdout",
          "text": [
            "\n",
            "Break: Exit a loop.\n",
            "\n",
            "Debugging: Finding and Correcting Errors.\n",
            "\n",
            "Immutable: Cannont be changed.\n",
            "\n",
            "Mutable: Can be changed.\n",
            "\n",
            "Loop: Repeat until condition is satisfied.\n"
          ]
        }
      ],
      "source": [
        "glossary = {'Break': 'Exit a loop.','Debugging': 'Finding and Correcting Errors.','Immutable': 'Cannont be changed.','Mutable': 'Can be changed.', 'Loop': \"Repeat until condition is satisfied.\", }\n",
        "\n",
        "word = 'Break'\n",
        "print(\"\\n\" + word.title() + \": \" + glossary[word])\n",
        "\n",
        "word = 'Debugging'\n",
        "print(\"\\n\" + word.title() + \": \" + glossary[word])\n",
        "\n",
        "word = 'Immutable'\n",
        "print(\"\\n\" + word.title() + \": \" + glossary[word])\n",
        "\n",
        "word = 'Mutable'\n",
        "print(\"\\n\" + word.title() + \": \" + glossary[word])\n",
        "\n",
        "word = 'Loop'\n",
        "print(\"\\n\" + word.title() + \": \" + glossary[word])"
      ]
    },
    {
      "cell_type": "markdown",
      "id": "9bdb2d85",
      "metadata": {
        "id": "9bdb2d85"
      },
      "source": [
        "## Question 4\n",
        "\n",
        "**Glossary 2:** Now that you know how to loop through a dictionary, clean up the code from Question 3 by replacing your series of print() calls with a loop that runs through the dictionary’s keys and values. When you’re sure that your loop works, add five more Python terms to your glossary. When you run your program again, these new words and meanings should automatically be included in the output."
      ]
    },
    {
      "cell_type": "code",
      "execution_count": 5,
      "id": "018d37ff",
      "metadata": {
        "id": "018d37ff"
      },
      "outputs": [],
      "source": []
    },
    {
      "cell_type": "code",
      "execution_count": 6,
      "metadata": {
        "colab": {
          "base_uri": "https://localhost:8080/"
        },
        "outputId": "e075ea10-260e-4a74-91d0-b28a6304180a",
        "id": "YDLatcxPcmPc"
      },
      "outputs": [
        {
          "output_type": "stream",
          "name": "stdout",
          "text": [
            "\n",
            "Break: Exit a loop.\n",
            "\n",
            "Debugging: Finding and Correcting Errors.\n",
            "\n",
            "Immutable: Cannont be changed.\n",
            "\n",
            "Mutable: Can be changed.\n",
            "\n",
            "Loop: Repeat until condition is satisfied.\n",
            "\n",
            "Dictionary: Key:Value Pair\n",
            "\n",
            "Print: Function that prints results\n",
            "\n",
            "Python: A programming language\n",
            "\n",
            "List: Changeable\n",
            "\n",
            "Tuple: Not Changable\n"
          ]
        }
      ],
      "source": [
        "glossary = {'Break': 'Exit a loop.','Debugging': 'Finding and Correcting Errors.','Immutable': 'Cannont be changed.','Mutable': 'Can be changed.', 'Loop': \"Repeat until condition is satisfied.\", \"Dictionary\": \"Key:Value Pair\", \"Print\": \"Function that prints results\",\"Python\":\"A programming language\", \"List\":\"Changeable\", \"Tuple\": \"Not Changable\"    }\n",
        "\n",
        "for word, definition in glossary.items():\n",
        "    print(\"\\n\" + word.title() + \": \" + definition)"
      ],
      "id": "YDLatcxPcmPc"
    },
    {
      "cell_type": "markdown",
      "id": "375356d5",
      "metadata": {
        "id": "375356d5"
      },
      "source": [
        "## Question 5\n",
        "\n",
        "**Rivers:** Make a dictionary containing three major rivers and the country each river runs through. One key-value pair might be 'nile': 'egypt'.\n",
        "\n",
        "- Use a loop to print a sentence about each river, such as _The Nile runs through Egypt._\n",
        "- Use a loop to print the name of each river included in the dictionary.\n",
        "- Use a loop to print the name of each country included in the dictionary."
      ]
    },
    {
      "cell_type": "code",
      "execution_count": 7,
      "id": "2fd7b758",
      "metadata": {
        "colab": {
          "base_uri": "https://localhost:8080/"
        },
        "id": "2fd7b758",
        "outputId": "eff2c126-4662-4c6f-9c62-6837f8505fc4"
      },
      "outputs": [
        {
          "output_type": "stream",
          "name": "stdout",
          "text": [
            "The Tennessee flows through United States.\n",
            "The Amazon flows through Brazil.\n",
            "The Mekong flows through Vietnam.\n",
            "The Ob flows through Russia.\n",
            "The Congo flows through Congo.\n",
            "\n",
            "The following rivers are included in this data set:\n",
            "- Tennessee\n",
            "- Amazon\n",
            "- Mekong\n",
            "- Ob\n",
            "- Congo\n",
            "\n",
            "The following countries are included in this data set:\n",
            "- United States\n",
            "- Brazil\n",
            "- Vietnam\n",
            "- Russia\n",
            "- Congo\n"
          ]
        }
      ],
      "source": [
        "rivers = {\n",
        "    'Tennessee': 'United States',\n",
        "    'Amazon': 'Brazil',\n",
        "    'Mekong': 'Vietnam',\n",
        "    'Ob': 'Russia',\n",
        "    'Congo': 'Congo',\n",
        "    }\n",
        "\n",
        "for river, country in rivers.items():\n",
        "    print(\"The \" + river.title() + \" flows through \" + country.title() + \".\")\n",
        "\n",
        "print(\"\\nThe following rivers are included in this data set:\")\n",
        "for river in rivers.keys():\n",
        "    print(\"- \" + river.title())\n",
        "\n",
        "print(\"\\nThe following countries are included in this data set:\")\n",
        "for country in rivers.values():\n",
        "    print(\"- \" + country.title())"
      ]
    },
    {
      "cell_type": "markdown",
      "id": "8b0b500d",
      "metadata": {
        "id": "8b0b500d"
      },
      "source": [
        "## Question 6\n",
        "\n",
        "**Cities:** Make a dictionary called `cities`. Use the names of three cities as keys in your dictionary. Create a dictionary of information about each city and include the country that the city is in, its approximate population, and one fact about that city. The keys for each city’s dictionary should be something like `country`, `population`, and `fact`. Print the name of each city and all of the information you have stored about it."
      ]
    },
    {
      "cell_type": "code",
      "execution_count": 8,
      "id": "28a77010",
      "metadata": {
        "colab": {
          "base_uri": "https://localhost:8080/"
        },
        "id": "28a77010",
        "outputId": "3b6f30ce-b697-4f1c-bfec-f7116d9c2247"
      },
      "outputs": [
        {
          "output_type": "stream",
          "name": "stdout",
          "text": [
            "\n",
            "Mexico City is in Mexico.\n",
            "It has a population of about 9000000.\n",
            "Mexico City is sinking\n",
            "\n",
            "Washington, D.C. is in United States.\n",
            "It has a population of about 700000.\n",
            "Washington DC is the capital of the US\n",
            "\n",
            "London is in England.\n",
            "It has a population of about 9000000.\n",
            "London was founded by the Romans \n"
          ]
        }
      ],
      "source": [
        "cities = {\n",
        "    'Mexico City': {\n",
        "        'country': 'Mexico',\n",
        "        'population': 9000000,\n",
        "        'fact': 'Mexico City is sinking',\n",
        "        },\n",
        "    'Washington, D.C.': {\n",
        "        'country': 'United States',\n",
        "        'population': 700000,\n",
        "        'fact': 'Washington DC is the capital of the US',\n",
        "        },\n",
        "    'London': {\n",
        "        'country': 'England',\n",
        "        'population': 9000000,\n",
        "        'fact': 'London was founded by the Romans ',\n",
        "        }\n",
        "    }\n",
        "\n",
        "for city, city_info in cities.items():\n",
        "    country = city_info['country'].title()\n",
        "    population = city_info['population']\n",
        "    fact = city_info['fact']\n",
        "\n",
        "    print(\"\\n\" + city.title() + \" is in \" + country + \".\")\n",
        "    print(\"It has a population of about \" + str(population) + \".\")\n",
        "    print(city_info['fact'])"
      ]
    },
    {
      "cell_type": "markdown",
      "id": "874541d3",
      "metadata": {
        "id": "874541d3"
      },
      "source": [
        "## Question 7\n",
        "\n",
        "**Rental Car:** Write a program that asks the user what kind of rental car they would like. Print a message about that car, such as “Let me see if I can find you a Subaru.”"
      ]
    },
    {
      "cell_type": "code",
      "execution_count": 9,
      "id": "5283628b",
      "metadata": {
        "colab": {
          "base_uri": "https://localhost:8080/"
        },
        "id": "5283628b",
        "outputId": "fea3dbe4-4ba2-4a19-9d1b-c6107d0ce04d"
      },
      "outputs": [
        {
          "output_type": "stream",
          "name": "stdout",
          "text": [
            "What kind of rental car would you like? Honda\n",
            "Let me see if I can find you a Honda.\n"
          ]
        }
      ],
      "source": [
        "car = input(\"What kind of rental car would you like? \")\n",
        "\n",
        "print(f\"Let me see if I can find you a {car.title()}.\")"
      ]
    },
    {
      "cell_type": "markdown",
      "id": "e03a200a",
      "metadata": {
        "id": "e03a200a"
      },
      "source": [
        "## Question 8\n",
        "\n",
        "**Restaurant Seating:** Write a program that asks the user how many people are in their dinner group. If the answer is more than eight, print a message saying they’ll have to wait for a table. Otherwise, report that their table is ready."
      ]
    },
    {
      "cell_type": "code",
      "execution_count": 10,
      "id": "96167a0f",
      "metadata": {
        "colab": {
          "base_uri": "https://localhost:8080/"
        },
        "id": "96167a0f",
        "outputId": "c9a2ef3b-875c-43e3-8481-1b69d4999705"
      },
      "outputs": [
        {
          "output_type": "stream",
          "name": "stdout",
          "text": [
            "How many people are in your party? 5\n",
            "Your table is ready.\n"
          ]
        }
      ],
      "source": [
        "party_size = input(\"How many people are in your party? \")\n",
        "party_size = int(party_size)\n",
        "\n",
        "if party_size > 8:\n",
        "    print( \"Sorry, you'll have to wait.\")\n",
        "else:\n",
        "    print(\"Your table is ready.\")"
      ]
    },
    {
      "cell_type": "markdown",
      "id": "a523d8a7",
      "metadata": {
        "id": "a523d8a7"
      },
      "source": [
        "## Question 9\n",
        "\n",
        "**Multiples of Ten:** Ask the user for a number, and then report whether the number is a multiple of 10 or not."
      ]
    },
    {
      "cell_type": "code",
      "execution_count": 11,
      "id": "77c9702e",
      "metadata": {
        "colab": {
          "base_uri": "https://localhost:8080/"
        },
        "id": "77c9702e",
        "outputId": "9068d9fe-88ba-46dd-e509-d0457c664bdc"
      },
      "outputs": [
        {
          "output_type": "stream",
          "name": "stdout",
          "text": [
            "Please enter a number: 70\n",
            "70 is a multiple of 10.\n"
          ]
        }
      ],
      "source": [
        "number = input(\"Please enter a number: \")\n",
        "number = int(number)\n",
        "\n",
        "if number % 10 == 0:\n",
        "    print(f\"{number} is a multiple of 10.\")\n",
        "else:\n",
        "    print(f\"{number} is not a multiple of 10.\")"
      ]
    },
    {
      "cell_type": "markdown",
      "id": "de550983",
      "metadata": {
        "id": "de550983"
      },
      "source": [
        "## Question 10\n",
        "\n",
        "**Pizza Toppings:** Write a loop that prompts the user to enter a series of pizza toppings until they enter a 'quit' value. As they enter each topping, print a message saying you’ll add that topping to their pizza."
      ]
    },
    {
      "cell_type": "code",
      "execution_count": 12,
      "id": "11f4d8e4",
      "metadata": {
        "colab": {
          "base_uri": "https://localhost:8080/"
        },
        "id": "11f4d8e4",
        "outputId": "5e83fba3-7875-46e1-99d8-bae84bb3cf0e"
      },
      "outputs": [
        {
          "name": "stdout",
          "output_type": "stream",
          "text": [
            "\n",
            "What topping would you like on your pizza?\n",
            "Enter 'quit' when you are finished: Mushrooms\n",
            "  Mushrooms added to your pizza.\n",
            "\n",
            "What topping would you like on your pizza?\n",
            "Enter 'quit' when you are finished: quit\n"
          ]
        }
      ],
      "source": [
        "prompt = \"\\nWhat topping would you like on your pizza?\"\n",
        "prompt += \"\\nEnter 'quit' when you are finished: \"\n",
        "\n",
        "while True:\n",
        "    topping = input(prompt)\n",
        "    if topping != 'quit':\n",
        "        print(f\"  {topping} added to your pizza.\")\n",
        "    else:\n",
        "        break"
      ]
    },
    {
      "cell_type": "markdown",
      "id": "ccfe4831",
      "metadata": {
        "id": "ccfe4831"
      },
      "source": [
        "## Question 11\n",
        "\n",
        "**Message:** Write a function called `display_message()` that prints one sentence telling everyone what you are learning about in this chapter. Call the function, and make sure the message displays correctly."
      ]
    },
    {
      "cell_type": "code",
      "execution_count": 13,
      "id": "7080b52a",
      "metadata": {
        "colab": {
          "base_uri": "https://localhost:8080/"
        },
        "id": "7080b52a",
        "outputId": "51eb76a8-ba09-453b-c0fb-ea3b20ad40b3"
      },
      "outputs": [
        {
          "output_type": "stream",
          "name": "stdout",
          "text": [
            "Leraning all about loops.\n"
          ]
        }
      ],
      "source": [
        "def display_message():\n",
        "    msg = \"Leraning all about loops.\"\n",
        "    print(msg)\n",
        "\n",
        "display_message()"
      ]
    },
    {
      "cell_type": "markdown",
      "id": "2b5e23db",
      "metadata": {
        "id": "2b5e23db"
      },
      "source": [
        "## Question 12\n",
        "\n",
        "**Favorite Book:** Write a function called `favorite_book()` that accepts one parameter, title. The function should print a message, such as `One of my favorite books is Alice in Wonderland`. Call the function, making sure to include a book title as an argument in the function call."
      ]
    },
    {
      "cell_type": "code",
      "execution_count": 14,
      "id": "b33bd108",
      "metadata": {
        "colab": {
          "base_uri": "https://localhost:8080/"
        },
        "id": "b33bd108",
        "outputId": "3a037e02-932e-4d46-9ac1-0e3a6636fc53"
      },
      "outputs": [
        {
          "output_type": "stream",
          "name": "stdout",
          "text": [
            "The Jungle is a great book\n"
          ]
        }
      ],
      "source": [
        "def favorite_book(title):\n",
        "  print(title + \" is a great book\")\n",
        "\n",
        "favorite_book(\"The Jungle\")"
      ]
    },
    {
      "cell_type": "markdown",
      "id": "4904419f",
      "metadata": {
        "id": "4904419f"
      },
      "source": [
        "## Question 13\n",
        "\n",
        "**T-Shirt:** Write a function called `make_shirt()` that accepts a size and the text of a message that should be printed on the shirt. The function should print a sentence summarizing the size of the shirt and the message printed on it.\n",
        "\n",
        "Call the function once using positional arguments to make a shirt. Call the function a second time using keyword arguments."
      ]
    },
    {
      "cell_type": "code",
      "execution_count": 15,
      "id": "53d690ca",
      "metadata": {
        "colab": {
          "base_uri": "https://localhost:8080/"
        },
        "id": "53d690ca",
        "outputId": "a79c528b-b583-40e0-8fc0-748d14979760"
      },
      "outputs": [
        {
          "output_type": "stream",
          "name": "stdout",
          "text": [
            "\n",
            "I'm going to make a Extra Large t-shirt.\n",
            "It will say, \"University of Tennessee\"\n",
            "\n",
            "I'm going to make a Small t-shirt.\n",
            "It will say, \"GO VOLS.\"\n"
          ]
        }
      ],
      "source": [
        "def make_shirt(size, message):\n",
        "    print(\"\\nI'm going to make a \" + size + \" t-shirt.\")\n",
        "    print('It will say, \"' + message + '\"')\n",
        "\n",
        "make_shirt('Extra Large', 'University of Tennessee')\n",
        "make_shirt(message=\"GO VOLS.\", size='Small')"
      ]
    },
    {
      "cell_type": "markdown",
      "id": "c6a6dc4b",
      "metadata": {
        "id": "c6a6dc4b"
      },
      "source": [
        "## Question 14\n",
        "\n",
        "**Large Shirts:** Modify the `make_shirt()` function so that shirts are large by default with a message that reads _I love Python_. Make a large shirt and a medium shirt with the default message, and a shirt of any size with a different message."
      ]
    },
    {
      "cell_type": "code",
      "execution_count": 16,
      "id": "658f7e3f",
      "metadata": {
        "colab": {
          "base_uri": "https://localhost:8080/"
        },
        "id": "658f7e3f",
        "outputId": "2741acfc-1fcb-4f09-add8-b9fa8ac6051d"
      },
      "outputs": [
        {
          "output_type": "stream",
          "name": "stdout",
          "text": [
            "\n",
            "I will print a large t-shirt.\n",
            "It will say, \"I love Python!\"\n",
            "\n",
            "I will print a medium t-shirt.\n",
            "It will say, \"I love Python!\"\n",
            "\n",
            "I will print a small t-shirt.\n",
            "It will say, \"Hello\"\n"
          ]
        }
      ],
      "source": [
        "def make_shirt(size='large', message='I love Python!'):\n",
        "    print(\"\\nI will print a \" + size + \" t-shirt.\")\n",
        "    print('It will say, \"' + message + '\"')\n",
        "\n",
        "make_shirt()\n",
        "make_shirt(size='medium')\n",
        "make_shirt('small', 'Hello')"
      ]
    },
    {
      "cell_type": "markdown",
      "id": "64fd6e85",
      "metadata": {
        "id": "64fd6e85"
      },
      "source": [
        "## Question 15\n",
        "\n",
        "**Cities:** Write a function called `describe_city()` that accepts the name of a city and its country. The function should print a simple sentence, such as `Reykjavik is in Iceland`. Give the parameter for the country a default value. Call your function for three different cities, at least one of which is not in the default country."
      ]
    },
    {
      "cell_type": "code",
      "execution_count": 17,
      "id": "bc493373",
      "metadata": {
        "colab": {
          "base_uri": "https://localhost:8080/"
        },
        "id": "bc493373",
        "outputId": "a71ed3bd-9b8f-4e99-d7c2-00fbd76916f6"
      },
      "outputs": [
        {
          "output_type": "stream",
          "name": "stdout",
          "text": [
            "Madrid is in Spain.\n",
            "Knoxville is in United States.\n",
            "Durango is in Mexico.\n"
          ]
        }
      ],
      "source": [
        "def describe_city(city, country='Mexico'):\n",
        "    msg = city.title() + \" is in \" + country.title() + \".\"\n",
        "    print(msg)\n",
        "\n",
        "describe_city('Madrid', 'Spain')\n",
        "describe_city('Knoxville', 'United States')\n",
        "describe_city('Durango')"
      ]
    },
    {
      "cell_type": "markdown",
      "id": "259cdcdc",
      "metadata": {
        "id": "259cdcdc"
      },
      "source": [
        "## Question 16\n",
        "\n",
        "**City Names:** Write a function called `city_country()` that takes in the name of a city and its country. The function should return a string formatted like this:\n",
        "\n",
        "```text\n",
        "Santiago, Chile\n",
        "```\n",
        "\n",
        "Call your function with at least three city-country pairs, and print the values that are returned."
      ]
    },
    {
      "cell_type": "code",
      "execution_count": 18,
      "id": "f1b5b16e",
      "metadata": {
        "colab": {
          "base_uri": "https://localhost:8080/"
        },
        "id": "f1b5b16e",
        "outputId": "782c1650-bdd3-4756-cf67-e610adb592af"
      },
      "outputs": [
        {
          "output_type": "stream",
          "name": "stdout",
          "text": [
            "Moscow, Russia\n",
            "Sydney, Australia\n",
            "Tulsa, United States\n"
          ]
        }
      ],
      "source": [
        "def city_country(city, country):\n",
        "    return(city.title() + \", \" + country.title())\n",
        "\n",
        "city = city_country('Moscow', 'Russia')\n",
        "print(city)\n",
        "\n",
        "city = city_country('Sydney', 'Australia')\n",
        "print(city)\n",
        "\n",
        "city = city_country('Tulsa', 'United States')\n",
        "print(city)"
      ]
    },
    {
      "cell_type": "markdown",
      "id": "491f64a4",
      "metadata": {
        "id": "491f64a4"
      },
      "source": [
        "## Question 17\n",
        "\n",
        "**Album:** Write a function called `make_album()` that builds a dictionary describing a music album. The function should take in an artist name and an album title, and it should return a dictionary containing these two pieces of information. Use the function to make three dictionaries representing different albums. Print each return value to show that the dictionaries are storing the album information correctly.\n",
        "\n",
        "Use None to add an optional parameter to make_album() that allows you to store the number of songs on an album. If the calling line includes a value for the number of songs, add that value to the album’s dictionary. Make at least one new function call that includes the number of songs on an album."
      ]
    },
    {
      "cell_type": "code",
      "execution_count": 19,
      "id": "550b2be6",
      "metadata": {
        "colab": {
          "base_uri": "https://localhost:8080/"
        },
        "id": "550b2be6",
        "outputId": "fdd3bec5-d35f-4c95-fad8-77a4465d6cd1"
      },
      "outputs": [
        {
          "output_type": "stream",
          "name": "stdout",
          "text": [
            "{'artist': 'Michael Jackson', 'title': 'Thriller'}\n",
            "{'artist': 'Ac/Dc', 'title': 'Back In Black'}\n",
            "{'artist': 'Pink Floyd', 'title': 'The Dark Side Of The Moon'}\n",
            "{'artist': 'Fleetwood Mac', 'title': 'Rumors', 'tracks': 11}\n"
          ]
        }
      ],
      "source": [
        "def make_album(artist, title, tracks=0):\n",
        "    album_dict = {\n",
        "        'artist': artist.title(),\n",
        "        'title': title.title(),\n",
        "        }\n",
        "    if tracks:\n",
        "        album_dict['tracks'] = tracks\n",
        "    return album_dict\n",
        "\n",
        "album = make_album('Michael Jackson', 'Thriller')\n",
        "print(album)\n",
        "\n",
        "album = make_album('AC/DC', 'Back in Black')\n",
        "print(album)\n",
        "\n",
        "album = make_album('Pink Floyd', 'The Dark Side of the Moon')\n",
        "print(album)\n",
        "\n",
        "album = make_album('Fleetwood Mac', 'Rumors', tracks=11)\n",
        "print(album)"
      ]
    },
    {
      "cell_type": "markdown",
      "id": "42f6a72f",
      "metadata": {
        "id": "42f6a72f"
      },
      "source": [
        "## Question 18\n",
        "\n",
        "**User Albums:** Start with your program from Question 17. Write a `while` loop that allows users to enter an album’s artist and title. Once you have that information, call `make_album()` with the user’s input and print the dictionary that’s created. Be sure to include a quit value in the `while` loop."
      ]
    },
    {
      "cell_type": "code",
      "execution_count": 20,
      "id": "2ba9b4ba",
      "metadata": {
        "colab": {
          "base_uri": "https://localhost:8080/"
        },
        "id": "2ba9b4ba",
        "outputId": "0b54f20c-9280-4d59-b554-c165eb127096"
      },
      "outputs": [
        {
          "output_type": "stream",
          "name": "stdout",
          "text": [
            "Enter 'quit' to stop.\n",
            "\n",
            "Enter an Album name:] The dark side of the moon\n",
            "Enter Artist Name: Pink Floyd\n",
            "{'artist': 'Pink Floyd', 'title': 'The Dark Side Of The Moon'}\n",
            "\n",
            "Enter an Album name:] quit\n",
            "\n",
            "Thank You\n"
          ]
        }
      ],
      "source": [
        "def make_album(artist, title, tracks=0):\n",
        "    album_dict = {\n",
        "        'artist': artist.title(),\n",
        "        'title': title.title(),\n",
        "        }\n",
        "    if tracks:\n",
        "        album_dict['tracks'] = tracks\n",
        "    return album_dict\n",
        "\n",
        "title_prompt = \"\\nEnter an Album name:] \"\n",
        "artist_prompt = \"Enter Artist Name: \"\n",
        "\n",
        "print(\"Enter 'quit' to stop.\")\n",
        "\n",
        "while True:\n",
        "    title = input(title_prompt)\n",
        "    if title == 'quit':\n",
        "        break\n",
        "    \n",
        "    artist = input(artist_prompt)\n",
        "    if artist == 'quit':\n",
        "        break\n",
        "\n",
        "    album = make_album(artist, title)\n",
        "    print(album)\n",
        "\n",
        "print(\"\\nThank You\")"
      ]
    },
    {
      "cell_type": "markdown",
      "id": "97bab8c2",
      "metadata": {
        "id": "97bab8c2"
      },
      "source": [
        "## Question 19\n",
        "\n",
        "**Messages:** Make a list containing a series of short text messages. Pass the list to a function called `show_messages()`, which prints each text message."
      ]
    },
    {
      "cell_type": "code",
      "execution_count": 21,
      "id": "f8f3ee4e",
      "metadata": {
        "colab": {
          "base_uri": "https://localhost:8080/"
        },
        "id": "f8f3ee4e",
        "outputId": "a36045f1-1bc7-450c-8e84-0cb05c7fd22d"
      },
      "outputs": [
        {
          "output_type": "stream",
          "name": "stdout",
          "text": [
            "Wazza!\n",
            "NM HBU?\n",
            "Hahah lol\n"
          ]
        }
      ],
      "source": [
        "def show_messages(messages):\n",
        "    for message in messages:\n",
        "        print(message)\n",
        "\n",
        "messages = [\"Wazza!\", \"NM HBU?\", \"Hahah lol\"]\n",
        "show_messages(messages)"
      ]
    },
    {
      "cell_type": "markdown",
      "id": "a8bcea3c",
      "metadata": {
        "id": "a8bcea3c"
      },
      "source": [
        "## Question 20\n",
        "\n",
        "**Sending Messages:** Start with a copy of your program from Question 19. Write a function called `send_messages()` that prints each text message and moves each message to a new list called `sent_messages` as it’s printed. After calling the function, print both of your lists to make sure the messages were moved correctly."
      ]
    },
    {
      "cell_type": "code",
      "execution_count": 22,
      "id": "c5340719",
      "metadata": {
        "colab": {
          "base_uri": "https://localhost:8080/"
        },
        "id": "c5340719",
        "outputId": "f6537685-c512-4c14-ca69-7ca1d4552106"
      },
      "outputs": [
        {
          "output_type": "stream",
          "name": "stdout",
          "text": [
            "Showing all messages:\n",
            "Wazza!\n",
            "NM HBU?\n",
            "Hahah lol\n",
            "\n",
            "Sending all messages:\n",
            "Hahah lol\n",
            "NM HBU?\n",
            "Wazza!\n",
            "\n",
            "Final lists:\n",
            "[]\n",
            "['Hahah lol', 'NM HBU?', 'Wazza!']\n"
          ]
        }
      ],
      "source": [
        "def show_messages(messages):\n",
        "    print(\"Showing all messages:\")\n",
        "    for message in messages:\n",
        "        print(message)\n",
        "\n",
        "def send_messages(messages, sent_messages):\n",
        "    print(\"\\nSending all messages:\")\n",
        "    while messages:\n",
        "        current_message = messages.pop()\n",
        "        print(current_message)\n",
        "        sent_messages.append(current_message)\n",
        "\n",
        "messages = [\"Wazza!\", \"NM HBU?\", \"Hahah lol\"]\n",
        "show_messages(messages)\n",
        "\n",
        "sent_messages = []\n",
        "send_messages(messages, sent_messages)\n",
        "\n",
        "print(\"\\nFinal lists:\")\n",
        "print(messages)\n",
        "print(sent_messages)"
      ]
    },
    {
      "cell_type": "markdown",
      "id": "c98f1dd0",
      "metadata": {
        "id": "c98f1dd0"
      },
      "source": [
        "## Question 21\n",
        "\n",
        "**Learning Python:** Open a blank file in your text editor and write a few lines summarizing what you’ve learned about Python so far. Start each line with the phrase _In Python you can. . .._ Save the file as _learning_python.txt_ in the same directory as your exercises from this chapter. Write a program that reads the file and prints what you wrote three times. Print the contents once by reading in the entire file, once by looping over the file object, and once by storing the lines in a list and then working with them outside the _with_ block."
      ]
    },
    {
      "cell_type": "code",
      "execution_count": 23,
      "id": "cb5da040",
      "metadata": {
        "colab": {
          "base_uri": "https://localhost:8080/"
        },
        "id": "cb5da040",
        "outputId": "109f991d-0de4-4a17-ff2b-4cd2fda87641"
      },
      "outputs": [
        {
          "output_type": "stream",
          "name": "stdout",
          "text": [
            "--- Reading in the entire file:\n",
            "In Python you can organize data\n",
            "In Python you can do math\n",
            "In Python you can learn to code\n",
            "\n",
            "--- Looping over the lines:\n",
            "In Python you can organize data\n",
            "In Python you can do math\n",
            "In Python you can learn to code\n",
            "\n",
            "--- Storing the lines in a list:\n",
            "In Python you can organize data\n",
            "In Python you can do math\n",
            "In Python you can learn to code\n"
          ]
        }
      ],
      "source": [
        "filename = 'learning_python.txt'\n",
        "\n",
        "print(\"--- Reading in the entire file:\")\n",
        "with open(filename) as f:\n",
        "    contents = f.read()\n",
        "print(contents)\n",
        "\n",
        "print(\"\\n--- Looping over the lines:\")\n",
        "with open(filename) as f:\n",
        "    for line in f:\n",
        "        print(line.rstrip())\n",
        "\n",
        "print(\"\\n--- Storing the lines in a list:\")\n",
        "with open(filename) as f:\n",
        "    lines = f.readlines()\n",
        "\n",
        "for line in lines:\n",
        "    print(line.rstrip())"
      ]
    },
    {
      "cell_type": "code",
      "execution_count": 24,
      "metadata": {
        "colab": {
          "base_uri": "https://localhost:8080/"
        },
        "outputId": "a3e9630c-92e4-4cda-8ee9-acf709260703",
        "id": "BazLydtGTk9d"
      },
      "outputs": [
        {
          "output_type": "stream",
          "name": "stdout",
          "text": [
            "--- Reading in the entire file:\n",
            "In Python you can organize data\n",
            "In Python you can do math\n",
            "In Python you can learn to code\n",
            "\n",
            "--- Looping over the lines:\n",
            "In Python you can organize data\n",
            "In Python you can do math\n",
            "In Python you can learn to code\n",
            "\n",
            "--- Storing the lines in a list:\n",
            "In Python you can organize data\n",
            "In Python you can do math\n",
            "In Python you can learn to code\n"
          ]
        }
      ],
      "source": [
        "filename = 'learning_python.txt'\n",
        "\n",
        "print(\"--- Reading in the entire file:\")\n",
        "with open(filename) as f:\n",
        "    contents = f.read()\n",
        "print(contents)\n",
        "\n",
        "print(\"\\n--- Looping over the lines:\")\n",
        "with open(filename) as f:\n",
        "    for line in f:\n",
        "        print(line.rstrip())\n",
        "\n",
        "print(\"\\n--- Storing the lines in a list:\")\n",
        "with open(filename) as f:\n",
        "    lines = f.readlines()\n",
        "\n",
        "for line in lines:\n",
        "    print(line.rstrip())"
      ],
      "id": "BazLydtGTk9d"
    },
    {
      "cell_type": "markdown",
      "id": "4a1a04ad",
      "metadata": {
        "id": "4a1a04ad"
      },
      "source": [
        "## Question 22\n",
        "\n",
        "**Learning C:** You can use the replace() method to replace any word in a string with a different word. Here’s a quick example showing how to replace 'dog' with 'cat' in a sentence:\n",
        "\n",
        "```text\n",
        "message = \"I really like dogs.\"\n",
        "message.replace('dog', 'cat')\n",
        "'I really like cats.'\n",
        "```\n",
        "\n",
        "Read in each line from the file you just created, _learning_python.txt_, and replace the word _Python_ with the name of another language, such as _C_. Print each modified line to the screen."
      ]
    },
    {
      "cell_type": "code",
      "execution_count": 25,
      "id": "b11b8018",
      "metadata": {
        "id": "b11b8018",
        "colab": {
          "base_uri": "https://localhost:8080/"
        },
        "outputId": "43b0cbce-5450-4143-e59c-782f4e7614e6"
      },
      "outputs": [
        {
          "output_type": "stream",
          "name": "stdout",
          "text": [
            "In C you can organize data\n",
            "In C you can do math\n",
            "In C you can learn to code\n"
          ]
        }
      ],
      "source": [
        "filename = 'learning_python.txt'\n",
        "\n",
        "with open(filename) as f:\n",
        "    lines = f.readlines()\n",
        "\n",
        "for line in lines:\n",
        "    line = line.rstrip()\n",
        "    print(line.replace('Python', 'C'))"
      ]
    },
    {
      "cell_type": "markdown",
      "id": "0921244a",
      "metadata": {
        "id": "0921244a"
      },
      "source": [
        "## Question 23\n",
        "\n",
        "**Guest:** Write a program that prompts the user for their name. When they respond, write their name to a file called guest.txt."
      ]
    },
    {
      "cell_type": "code",
      "execution_count": 26,
      "id": "340d8f4b",
      "metadata": {
        "id": "340d8f4b",
        "colab": {
          "base_uri": "https://localhost:8080/"
        },
        "outputId": "e02bbaf0-6c66-4408-8d6c-c12a50b5c7aa"
      },
      "outputs": [
        {
          "name": "stdout",
          "output_type": "stream",
          "text": [
            "What's your name? Ian\n"
          ]
        }
      ],
      "source": [
        "name = input(\"What's your name? \")\n",
        "\n",
        "filename = 'guest.txt'\n",
        "\n",
        "with open(filename, 'w') as f:\n",
        "    f.write(name)"
      ]
    },
    {
      "cell_type": "markdown",
      "id": "24b72b21",
      "metadata": {
        "id": "24b72b21"
      },
      "source": [
        "## Question 24\n",
        "\n",
        "**Guest Book:** Write a while loop that prompts users for their name. When they enter their name, print a greeting to the screen and add a line recording their visit in a file called guest_book.txt. Make sure each entry appears on a new line in the file."
      ]
    },
    {
      "cell_type": "code",
      "execution_count": 27,
      "id": "2326c653",
      "metadata": {
        "id": "2326c653",
        "colab": {
          "base_uri": "https://localhost:8080/"
        },
        "outputId": "7be5caa7-2028-4872-b87e-372378c08202"
      },
      "outputs": [
        {
          "name": "stdout",
          "output_type": "stream",
          "text": [
            "Enter 'quit' to finish.\n",
            "\n",
            "Please enter your name Jeff\n",
            "Hi Jeff, you've been added to the guest book.\n",
            "\n",
            "Please enter your name Jeff 2\n",
            "Hi Jeff 2, you've been added to the guest book.\n",
            "\n",
            "Please enter your name quit\n"
          ]
        }
      ],
      "source": [
        "filename = 'guest_book.txt'\n",
        "\n",
        "print(\"Enter 'quit' to finish.\")\n",
        "while True:\n",
        "    name = input(\"\\nPlease enter your name \")\n",
        "    if name == 'quit':\n",
        "        break\n",
        "    else:\n",
        "        with open(filename, 'a') as f:\n",
        "            f.write(name + \"\\n\")\n",
        "        print(\"Hi \" + name + \", you've been added to the guest book.\")"
      ]
    },
    {
      "cell_type": "markdown",
      "id": "f3075d32",
      "metadata": {
        "id": "f3075d32"
      },
      "source": [
        "## Question 25\n",
        "\n",
        "**Programming Poll:** Write a while loop that asks people why they like programming. Each time someone enters a reason, add their reason to a file that stores all the responses."
      ]
    },
    {
      "cell_type": "code",
      "execution_count": 28,
      "id": "042dfb04",
      "metadata": {
        "id": "042dfb04",
        "colab": {
          "base_uri": "https://localhost:8080/"
        },
        "outputId": "65ef71ae-2ea7-4349-9125-c29450fba583"
      },
      "outputs": [
        {
          "name": "stdout",
          "output_type": "stream",
          "text": [
            "\n",
            "Why do you like programming? It can save time\n",
            "Add another response? (y/n) y\n",
            "\n",
            "Why do you like programming? Its fun\n",
            "Add another response? (y/n) n\n"
          ]
        }
      ],
      "source": [
        "filename = 'programming_poll.txt'\n",
        "\n",
        "responses = []\n",
        "while True:\n",
        "    response = input(\"\\nWhy do you like programming? \")\n",
        "    responses.append(response)\n",
        "\n",
        "    continue_poll = input(\"Add another response? (y/n) \")\n",
        "    if continue_poll != 'y':\n",
        "        break\n",
        "\n",
        "with open(filename, 'a') as f:\n",
        "    for response in responses:\n",
        "        f.write(response + \"\\n\")"
      ]
    },
    {
      "cell_type": "markdown",
      "id": "ed07a1ca",
      "metadata": {
        "id": "ed07a1ca"
      },
      "source": [
        "## Question 26\n",
        "\n",
        "**Addition:** One common problem when prompting for numerical input occurs when people provide text instead of numbers. When you try to convert the input to an int, you’ll get a ValueError. Write a program that prompts for two numbers. Add them together and print the result. Catch the ValueError if either input value is not a number, and print a friendly error message. Test your program by entering two numbers and then by entering some text instead of a number."
      ]
    },
    {
      "cell_type": "code",
      "execution_count": 29,
      "id": "eaf686f8",
      "metadata": {
        "id": "eaf686f8",
        "colab": {
          "base_uri": "https://localhost:8080/"
        },
        "outputId": "bff0c828-8f6b-4589-93cc-503750f0c652"
      },
      "outputs": [
        {
          "output_type": "stream",
          "name": "stdout",
          "text": [
            "number: 5\n",
            "another number: 8\n",
            "The sum of 5 and 8 is 13.\n"
          ]
        }
      ],
      "source": [
        "try:\n",
        "    x = input(\"number: \")\n",
        "    x = int(x)\n",
        "\n",
        "    y = input(\"another number: \")\n",
        "    y = int(y)\n",
        "\n",
        "except ValueError:\n",
        "    print(\"Sorry, Numbers Only Please\")\n",
        "\n",
        "else:\n",
        "    sum = x + y\n",
        "    print(\"The sum of \" + str(x) + \" and \" + str(y) + \" is \" + str(sum) + \".\")"
      ]
    },
    {
      "cell_type": "markdown",
      "id": "09db5341",
      "metadata": {
        "id": "09db5341"
      },
      "source": [
        "## Question 27\n",
        "\n",
        "**Addition Calculator:** Wrap your code from Question 26 in a while loop so the user can continue entering numbers even if they make a mistake and enter text instead of a number."
      ]
    },
    {
      "cell_type": "code",
      "execution_count": 30,
      "id": "916c769d",
      "metadata": {
        "id": "916c769d",
        "colab": {
          "base_uri": "https://localhost:8080/"
        },
        "outputId": "e0f1ab20-1a4e-4969-dd94-d048ac55bd41"
      },
      "outputs": [
        {
          "name": "stdout",
          "output_type": "stream",
          "text": [
            "Enter 'q' at any time to quit.\n",
            "\n",
            "\n",
            " number: q\n"
          ]
        }
      ],
      "source": [
        "print(\"Enter 'q' at any time to quit.\\n\")\n",
        "\n",
        "while True:\n",
        "    try:\n",
        "        x = input(\"\\n number: \")\n",
        "        if x == 'q':\n",
        "            break\n",
        "\n",
        "        x = int(x)\n",
        "\n",
        "        y = input(\" another number: \")\n",
        "        if y == 'q':\n",
        "            break\n",
        "\n",
        "        y = int(y)\n",
        "\n",
        "    except ValueError:\n",
        "        print(\"Sorry, Numbers Only Please.\")\n",
        "\n",
        "    else:\n",
        "        sum = x + y\n",
        "        print(\"The sum of \" + str(x) + \" and \" + str(y) + \" is \" + str(sum) + \".\")"
      ]
    },
    {
      "cell_type": "markdown",
      "id": "288099a9",
      "metadata": {
        "id": "288099a9"
      },
      "source": [
        "## Question 28\n",
        "\n",
        "**Cats and Dogs:** Make two files, _cats.txt_ and _dogs.txt_. Store at least three names of cats in the first file and three names of dogs in the second file. Write a program that tries to read these files and print the contents of the file to the screen. Wrap your code in a `try-except` block to catch the `FileNotFound` error, and print a friendly message if a file is missing. Move one of the files to a different location on your system, and make sure the code in the `except` block executes properly."
      ]
    },
    {
      "cell_type": "code",
      "execution_count": 31,
      "id": "387672f6",
      "metadata": {
        "id": "387672f6",
        "colab": {
          "base_uri": "https://localhost:8080/"
        },
        "outputId": "70db021c-a91a-41b1-e77d-3724b258e571"
      },
      "outputs": [
        {
          "output_type": "stream",
          "name": "stdout",
          "text": [
            "\n",
            "Reading file: cats.txt\n",
            "scrappy\n",
            "whisker\n",
            "doug\n",
            "\n",
            "Reading file: dogs.txt\n",
            "Yeller\n",
            "Spot\n",
            "Fido\n"
          ]
        }
      ],
      "source": [
        "filenames = ['cats.txt', 'dogs.txt']\n",
        "\n",
        "for filename in filenames:\n",
        "    print(\"\\nReading file: \" + filename)\n",
        "    try:\n",
        "        with open(filename) as f:\n",
        "            contents = f.read()\n",
        "            print(contents)\n",
        "    except FileNotFoundError:\n",
        "        print(\"  Sorry, I can't find that file.\")"
      ]
    },
    {
      "cell_type": "markdown",
      "id": "e9d28546",
      "metadata": {
        "id": "e9d28546"
      },
      "source": [
        "## Question 29\n",
        "\n",
        "**Silent Cats and Dogs:** Modify your except block in Question 28 to fail silently if either file is missing."
      ]
    },
    {
      "cell_type": "code",
      "execution_count": 32,
      "id": "2b972722",
      "metadata": {
        "id": "2b972722",
        "colab": {
          "base_uri": "https://localhost:8080/"
        },
        "outputId": "e02f26c6-acaf-49d9-ba3d-38a82dc41a48"
      },
      "outputs": [
        {
          "output_type": "stream",
          "name": "stdout",
          "text": [
            "\n",
            "Reading file: cats.txt\n",
            "scrappy\n",
            "whisker\n",
            "doug\n",
            "\n",
            "Reading file: dogs.txt\n",
            "Yeller\n",
            "Spot\n",
            "Fido\n"
          ]
        }
      ],
      "source": [
        "filenames = ['cats.txt', 'dogs.txt']\n",
        "\n",
        "for filename in filenames:\n",
        "    \n",
        "    try:\n",
        "        with open(filename) as f:\n",
        "            contents = f.read()\n",
        "\n",
        "    except FileNotFoundError:\n",
        "        pass\n",
        "\n",
        "    else:\n",
        "        print(\"\\nReading file: \" + filename)\n",
        "        print(contents)"
      ]
    },
    {
      "cell_type": "markdown",
      "id": "241ffab1",
      "metadata": {
        "id": "241ffab1"
      },
      "source": [
        "## Question 30\n",
        "\n",
        "**Common Words:** Visit Project Gutenberg (<https://gutenberg.org/>) and find a few texts you’d like to analyze. Download the text files for these works, or copy the raw text from your browser into a text file on your computer. You can use the `count()` method to find out how many times a word or phrase appears in a string. For example, the following code counts the number of times 'row' appears in a string:"
      ]
    },
    {
      "cell_type": "code",
      "execution_count": 33,
      "id": "2a017ac9",
      "metadata": {
        "id": "2a017ac9",
        "colab": {
          "base_uri": "https://localhost:8080/"
        },
        "outputId": "8868f3b5-d696-4c2e-ee65-d33779617382"
      },
      "outputs": [
        {
          "output_type": "execute_result",
          "data": {
            "text/plain": [
              "2"
            ]
          },
          "metadata": {},
          "execution_count": 33
        }
      ],
      "source": [
        "line = \"Row, row, row your boat\"\n",
        "line.count('row')"
      ]
    },
    {
      "cell_type": "code",
      "execution_count": 34,
      "id": "41707165",
      "metadata": {
        "id": "41707165",
        "colab": {
          "base_uri": "https://localhost:8080/"
        },
        "outputId": "c2781eda-253f-4484-c4e1-bd279beaad00"
      },
      "outputs": [
        {
          "output_type": "execute_result",
          "data": {
            "text/plain": [
              "3"
            ]
          },
          "metadata": {},
          "execution_count": 34
        }
      ],
      "source": [
        "line.lower().count('row')"
      ]
    },
    {
      "cell_type": "markdown",
      "id": "5652cc4d",
      "metadata": {
        "id": "5652cc4d"
      },
      "source": [
        "Notice that converting the string to lowercase using lower() catches all appearances of the word you’re looking for, regardless of how it’s formatted.\n",
        "\n",
        "Write a program that reads the files you found at Project Gutenberg and determines how many times the word `the` appears in each text. This will be an approximation because it will also count words such as `then` and `there`. Try counting `the`, with a space in the string, and see how much lower your count is."
      ]
    },
    {
      "cell_type": "code",
      "execution_count": 35,
      "id": "55ab2af3",
      "metadata": {
        "id": "55ab2af3",
        "colab": {
          "base_uri": "https://localhost:8080/"
        },
        "outputId": "ec98d170-23b6-4052-dd2e-79acc2fa8e9e"
      },
      "outputs": [
        {
          "output_type": "stream",
          "name": "stdout",
          "text": [
            "'the' appears in a_modest_proposal.txt about 324 times.\n"
          ]
        }
      ],
      "source": [
        "def count_common_words(a_modest_proposal, word):\n",
        "    try:\n",
        "        with open(a_modest_proposal, encoding='utf-8') as f:\n",
        "            contents = f.read()\n",
        "    except FileNotFoundError:\n",
        "        pass\n",
        "    else:\n",
        "        word_count = contents.lower().count(word)\n",
        "\n",
        "        msg = f\"'{word}' appears in {filename} about {word_count} times.\"\n",
        "        print(msg)\n",
        "\n",
        "filename = 'a_modest_proposal.txt'\n",
        "count_common_words(filename, 'the')"
      ]
    }
  ],
  "metadata": {
    "kernelspec": {
      "display_name": "Python 3",
      "language": "python",
      "name": "python3"
    },
    "colab": {
      "provenance": []
    }
  },
  "nbformat": 4,
  "nbformat_minor": 5
}